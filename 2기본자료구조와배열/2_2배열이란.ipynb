{
 "cells": [
  {
   "attachments": {},
   "cell_type": "markdown",
   "metadata": {},
   "source": [
    "### 배열 원소 의 최댓값을 구하는 함수 구현\n",
    "### 실습 2-2\n",
    "시퀀스 원소의 최댓값 출력하기"
   ]
  },
  {
   "cell_type": "code",
   "execution_count": 1,
   "metadata": {},
   "outputs": [
    {
     "name": "stdout",
     "output_type": "stream",
     "text": [
      "배열의 최댓값을 구합니다.\n",
      "최댓값은 61\n"
     ]
    }
   ],
   "source": [
    "from typing import Any, Sequence\n",
    "#건네받는 매개변수 a의 자료형은 Sequence\n",
    "#반환하는 것은 임의의 자료형인 Any\n",
    "def max_of(a : Sequence)->Any:\n",
    "    # 시퀀스형 a 원소의 최댓값을 반환\n",
    "    maximum = a[0]\n",
    "    for i in range(1,len(a)):\n",
    "        if a[i]>maximum:\n",
    "            maximum = a[i]\n",
    "    return maximum\n",
    "\n",
    "if __name__=='__main__':\n",
    "    print('배열의 최댓값을 구합니다.')\n",
    "    num = int(input('원소 수를 입력하세요 : '))\n",
    "    x = [None]*num\n",
    "\n",
    "    for i in range(num):\n",
    "        x[i] = int(input(f\"x[{i}] : \"))\n",
    "    print(f\"최댓값은 {max_of(x)}\")\n"
   ]
  },
  {
   "attachments": {},
   "cell_type": "markdown",
   "metadata": {},
   "source": [
    "Any -> 제약없는 임의의 자료형<br>\n",
    "Sequence-> 리스트(list)형, 바이트(bytearry)형, 문자열(str)형, 튜플(tuple)형, 바이트(bytes)형"
   ]
  },
  {
   "attachments": {},
   "cell_type": "markdown",
   "metadata": {},
   "source": [
    "### 실습 2-3\n",
    "배열 원소의 초댓값 출력"
   ]
  },
  {
   "cell_type": "code",
   "execution_count": 6,
   "metadata": {},
   "outputs": [
    {
     "name": "stdout",
     "output_type": "stream",
     "text": [
      "배열의 최댓값을 구합니다.\n",
      "주의 : END를 입력하면 종료합니다\n",
      "4개를 입력\n",
      "최댓값은 86\n"
     ]
    }
   ],
   "source": [
    "from max_of_test import max_of\n",
    "\n",
    "print('배열의 최댓값을 구합니다.')\n",
    "print('주의 : END를 입력하면 종료합니다')\n",
    "\n",
    "number = 0\n",
    "x = []\n",
    "\n",
    "while True:\n",
    "    s = input(f\"x[{number}]의 값을 입력하시요\")\n",
    "    if s == 'END':\n",
    "        break\n",
    "    x.append(int(s))\n",
    "    number += 1\n",
    "\n",
    "print(f\"{number}개를 입력\")\n",
    "print(f\"최댓값은 {max_of(x)}\")"
   ]
  },
  {
   "attachments": {},
   "cell_type": "markdown",
   "metadata": {},
   "source": [
    "### 실습 2-4\n",
    "배열 원소의 최댓값을 구해서 출력"
   ]
  },
  {
   "cell_type": "code",
   "execution_count": 4,
   "metadata": {},
   "outputs": [
    {
     "name": "stdout",
     "output_type": "stream",
     "text": [
      "난수의 최댓값을 구합니다\n",
      "[55, 8, 30, 56, 36]\n",
      "이 가운데 최댓값은 56\n"
     ]
    }
   ],
   "source": [
    "import random\n",
    "from max_of_test import max_of\n",
    "\n",
    "print('난수의 최댓값을 구합니다')\n",
    "num = int(input('난수의 갯수 : '))\n",
    "lo = int(input(\"난수의 최솟값 : \"))\n",
    "hi = int(input(\"난수의 최댓값 : \"))\n",
    "x = [None]*num\n",
    "\n",
    "for i in range(num):\n",
    "    x[i] = random.randint(lo, hi)\n",
    "\n",
    "print(f\"{x}\")\n",
    "print(f\"이 가운데 최댓값은 {max_of(x)}\")"
   ]
  },
  {
   "attachments": {},
   "cell_type": "markdown",
   "metadata": {},
   "source": [
    "### 실습 2-5\n",
    "각 배열 원소의 최댓값을 구해서 출력(튜플, 문자열, 문자열 리스트)"
   ]
  },
  {
   "cell_type": "code",
   "execution_count": 7,
   "metadata": {},
   "outputs": [
    {
     "name": "stdout",
     "output_type": "stream",
     "text": [
      "(4, 7, 5.6, 2, 3.14, 1)의 최댓값은 7\n",
      "string의 최댓값은 t\n",
      "['DTS', 'AAC', 'FLAC']의 최댓값은 FLAC\n"
     ]
    }
   ],
   "source": [
    "from max_of_test import max_of\n",
    "\n",
    "t = (4,7,5.6,2,3.14,1)\n",
    "s='string'\n",
    "a=[\"DTS\",\"AAC\",\"FLAC\"]\n",
    "\n",
    "print(f\"{t}의 최댓값은 {max_of(t)}\")\n",
    "print(f\"{s}의 최댓값은 {max_of(s)}\")\n",
    "print(f\"{a}의 최댓값은 {max_of(a)}\")"
   ]
  },
  {
   "attachments": {},
   "cell_type": "markdown",
   "metadata": {},
   "source": [
    "### 실습 2C-1,2,3\n",
    "리스트의 모든 원소를 스캔"
   ]
  },
  {
   "cell_type": "code",
   "execution_count": 10,
   "metadata": {},
   "outputs": [
    {
     "name": "stdout",
     "output_type": "stream",
     "text": [
      "x[0] = John\n",
      "x[1] = George\n",
      "x[2] = Paul\n",
      "x[3] = Ringo\n",
      "\n",
      "x[0] = John\n",
      "x[1] = George\n",
      "x[2] = Paul\n",
      "x[3] = Ringo\n",
      "\n",
      "1번째 = John\n",
      "2번째 = George\n",
      "3번째 = Paul\n",
      "4번째 = Ringo\n",
      "\n",
      "John\n",
      "George\n",
      "Paul\n",
      "Ringo\n"
     ]
    }
   ],
   "source": [
    "x=['John','George','Paul','Ringo']\n",
    "\n",
    "for i in range(len(x)):\n",
    "    print(f\"x[{i}] = {x[i]}\")\n",
    "print()\n",
    "for i, name in enumerate(x):\n",
    "    print(f\"x[{i}] = {name}\")\n",
    "print()\n",
    "for i, name in enumerate(x,1):\n",
    "    # i의 시작을 1로 한다\n",
    "    print(f\"{i}번째 = {name}\")\n",
    "print()\n",
    "for i in x:\n",
    "    print(i)"
   ]
  },
  {
   "attachments": {},
   "cell_type": "markdown",
   "metadata": {},
   "source": [
    "## 배열 우너소를 역순으로 정렬하기\n",
    "### 실습 2-6\n",
    "뮤터블 시퀀스 원소를 역순으로 정렬"
   ]
  },
  {
   "cell_type": "code",
   "execution_count": 11,
   "metadata": {},
   "outputs": [
    {
     "name": "stdout",
     "output_type": "stream",
     "text": [
      "배열 원소를 역순으로 정렬\n",
      "배열 원소를 역순으로 정렬\n",
      "x[0] = 52\n",
      "x[1] = 16\n",
      "x[2] = 75\n",
      "x[3] = 61\n",
      "x[4] = 20\n",
      "x[5] = 51\n"
     ]
    }
   ],
   "source": [
    "from typing import Any, MutableSequence\n",
    "\n",
    "def reverse_array(a : MutableSequence)->None:\n",
    "    # 뮤터블 시퀀스 a 의 원소를 역순으로 정렬\n",
    "    n = len(a)\n",
    "    for i in range(n//2):\n",
    "        a[i],a[n-i-1] = a[n-i-1], a[i]\n",
    "\n",
    "if __name__ == \"__main__\":\n",
    "    print(\"배열 원소를 역순으로 정렬\")\n",
    "    nx = int(input(\"원소 수를 입력\"))\n",
    "    x = [None]*nx\n",
    "\n",
    "    for i in range(nx):\n",
    "        x[i] = int(input(f\"x[{i}]값을 입력 : \"))\n",
    "    reverse_array(x)\n",
    "\n",
    "    print(\"배열 원소를 역순으로 정렬\")\n",
    "    for i in range(nx):\n",
    "        print(f\"x[{i}] = {x[i]}\")"
   ]
  },
  {
   "attachments": {},
   "cell_type": "markdown",
   "metadata": {},
   "source": [
    "### python 내장함수 reverse"
   ]
  },
  {
   "cell_type": "code",
   "execution_count": 29,
   "metadata": {},
   "outputs": [
    {
     "data": {
      "text/plain": [
       "([8, 7, 6, 5, 4, 3, 2, 1], [1, 2, 3, 4, 5, 6, 7, 8])"
      ]
     },
     "execution_count": 29,
     "metadata": {},
     "output_type": "execute_result"
    }
   ],
   "source": [
    "x=[1,2,3,4,5,6,7,8]\n",
    "x.reverse()\n",
    "\n",
    "\n",
    "y = list(reversed(x))\n",
    "x,y\n"
   ]
  }
 ],
 "metadata": {
  "kernelspec": {
   "display_name": "Python 3",
   "language": "python",
   "name": "python3"
  },
  "language_info": {
   "codemirror_mode": {
    "name": "ipython",
    "version": 3
   },
   "file_extension": ".py",
   "mimetype": "text/x-python",
   "name": "python",
   "nbconvert_exporter": "python",
   "pygments_lexer": "ipython3",
   "version": "3.11.3"
  },
  "orig_nbformat": 4
 },
 "nbformat": 4,
 "nbformat_minor": 2
}
