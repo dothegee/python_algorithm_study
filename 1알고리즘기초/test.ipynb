{
 "cells": [
  {
   "attachments": {},
   "cell_type": "markdown",
   "metadata": {},
   "source": [
    "### 실습1-7\n",
    "#### 1부터 n까지 정수의 합 구하기1(while 문)"
   ]
  },
  {
   "cell_type": "code",
   "execution_count": 4,
   "metadata": {},
   "outputs": [
    {
     "name": "stdout",
     "output_type": "stream",
     "text": [
      "1부터 n까지 정수의 합\n",
      "5까지 정수 합은 15\n"
     ]
    }
   ],
   "source": [
    "#실습1-7\n",
    "#1부터 n까지 정수의 합 구하기1(while 문)\n",
    "print(\"1부터 n까지 정수의 합\")\n",
    "n = int(input(\"n의 값을 입력 : \"))\n",
    "\n",
    "sum = 0\n",
    "i = 1\n",
    "\n",
    "while i <= n: #i가 n 보다 작거나 같을 동안 반복\n",
    "    sum += i\n",
    "    i += 1\n",
    "\n",
    "print(f\"{n}까지 정수 합은 {sum}\")\n"
   ]
  },
  {
   "attachments": {},
   "cell_type": "markdown",
   "metadata": {},
   "source": [
    "***"
   ]
  },
  {
   "cell_type": "code",
   "execution_count": null,
   "metadata": {},
   "outputs": [],
   "source": []
  }
 ],
 "metadata": {
  "kernelspec": {
   "display_name": "Python 3",
   "language": "python",
   "name": "python3"
  },
  "language_info": {
   "codemirror_mode": {
    "name": "ipython",
    "version": 3
   },
   "file_extension": ".py",
   "mimetype": "text/x-python",
   "name": "python",
   "nbconvert_exporter": "python",
   "pygments_lexer": "ipython3",
   "version": "3.11.1"
  },
  "orig_nbformat": 4
 },
 "nbformat": 4,
 "nbformat_minor": 2
}
