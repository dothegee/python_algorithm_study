{
 "cells": [
  {
   "attachments": {},
   "cell_type": "markdown",
   "metadata": {},
   "source": [
    "### 실습1-7\n",
    "#### 1부터 n까지 정수의 합 구하기1(while 문)"
   ]
  },
  {
   "cell_type": "code",
   "execution_count": 4,
   "metadata": {},
   "outputs": [
    {
     "name": "stdout",
     "output_type": "stream",
     "text": [
      "1부터 n까지 정수의 합\n",
      "5까지 정수 합은 15\n"
     ]
    }
   ],
   "source": [
    "print(\"1부터 n까지 정수의 합\")\n",
    "n = int(input(\"n의 값을 입력 : \"))\n",
    "\n",
    "sum = 0\n",
    "i = 1\n",
    "\n",
    "while i <= n: #i가 n 보다 작거나 같을 동안 반복\n",
    "    sum += i\n",
    "    i += 1\n",
    "\n",
    "print(f\"{n}까지 정수 합은 {sum}\")\n"
   ]
  },
  {
   "attachments": {},
   "cell_type": "markdown",
   "metadata": {},
   "source": [
    "### 실습1-8\n",
    "#### for 문"
   ]
  },
  {
   "cell_type": "code",
   "execution_count": 2,
   "metadata": {},
   "outputs": [
    {
     "name": "stdout",
     "output_type": "stream",
     "text": [
      "1부터 n까지 정수의 합\n",
      "5까지 정수 합은 15\n"
     ]
    }
   ],
   "source": [
    "print(\"1부터 n까지 정수의 합\")\n",
    "n = int(input(\"n의 값을 입력 : \"))\n",
    "\n",
    "sum = 0\n",
    "\n",
    "for i in range(1,n+1):\n",
    "    sum += i\n",
    "\n",
    "print(f\"{n}까지 정수 합은 {sum}\")"
   ]
  },
  {
   "attachments": {},
   "cell_type": "markdown",
   "metadata": {},
   "source": [
    "***"
   ]
  },
  {
   "attachments": {},
   "cell_type": "markdown",
   "metadata": {},
   "source": [
    "### 실습 1-10\n",
    "#### a부터 b까지 정수의 합 구하기 1"
   ]
  },
  {
   "cell_type": "code",
   "execution_count": 3,
   "metadata": {},
   "outputs": [
    {
     "name": "stdout",
     "output_type": "stream",
     "text": [
      "a부터 b까지 정수의 합을 구합니다.\n",
      "5 + 6 + 7 + 8 + 9 + 10 = 10\n"
     ]
    }
   ],
   "source": [
    "print('a부터 b까지 정수의 합을 구합니다.')\n",
    "a = int(input('정수 a를 입력하세요.: '))\n",
    "b = int(input(\"정수 b를 입력하세요.: \"))\n",
    "\n",
    "if a>b:\n",
    "    a,b=b,a\n",
    "\n",
    "sum=0\n",
    "for i in range(a,b+1):\n",
    "    if i<b:\n",
    "        print(f\"{i} + \", end=\"\")\n",
    "    else:\n",
    "        print(f\"{i} = \", end=\"\")\n",
    "sum += i\n",
    "\n",
    "print(sum)"
   ]
  },
  {
   "attachments": {},
   "cell_type": "markdown",
   "metadata": {},
   "source": [
    "### 실습 1-11\n",
    "#### a부터 b까지 정수의 합 구하기 2"
   ]
  },
  {
   "cell_type": "code",
   "execution_count": 4,
   "metadata": {},
   "outputs": [
    {
     "name": "stdout",
     "output_type": "stream",
     "text": [
      "a부터 b까지 정수의 합을 구합니다. \n",
      "5 + 6 + 7 + 8 + 9 + 10 = 45\n"
     ]
    }
   ],
   "source": [
    "\n",
    "print('a부터 b까지 정수의 합을 구합니다. ')\n",
    "a = int(input('정수 a를 입력하세요.: '))\n",
    "b = int(input(\"정수 b를 입력하세요.: \"))\n",
    "\n",
    "if a > b:\n",
    "    a, b = b, a\n",
    "\n",
    "sum = 0\n",
    "for i in range(a, b):\n",
    "    print(f\"{i} + \", end=\"\")\n",
    "    sum+=i\n",
    "\n",
    "print(f\"{b} = \", end = \"\")\n",
    "\n",
    "sum+=b\n",
    "print(sum)"
   ]
  },
  {
   "attachments": {},
   "cell_type": "markdown",
   "metadata": {},
   "source": [
    "1-10에서 1-11로 바꾸는 과정에서 조건식 판단횟수가 n번에서 0번으로 바뀌었고,<br>\n",
    "심지어 반복횟수도 1번 감소!!!!!!!!!!!!"
   ]
  },
  {
   "attachments": {},
   "cell_type": "markdown",
   "metadata": {},
   "source": [
    "***"
   ]
  },
  {
   "attachments": {},
   "cell_type": "markdown",
   "metadata": {},
   "source": [
    "### 반복과정에서 조건 판단하기 2\n",
    "### 실습 1-12\n",
    "#### +와 - 번갈아 출력하기 1"
   ]
  },
  {
   "cell_type": "code",
   "execution_count": 5,
   "metadata": {},
   "outputs": [
    {
     "name": "stdout",
     "output_type": "stream",
     "text": [
      "+와 -를 번갈아 출력합니다.\n",
      "+-+-+\n"
     ]
    }
   ],
   "source": [
    "print('+와 -를 번갈아 출력합니다.')\n",
    "n = int(input('몇 개를 출력할까요? : '))\n",
    "\n",
    "for i in range(n):\n",
    "    if i % 2:\n",
    "        print('-', end = \"\")\n",
    "    else:\n",
    "        print('+', end = \"\")\n",
    "\n",
    "print()"
   ]
  },
  {
   "attachments": {},
   "cell_type": "markdown",
   "metadata": {},
   "source": [
    "실습1-12 --> for 문 반복을 n번, 나눗셈은 n번, if 문 판단은 n번 함."
   ]
  },
  {
   "attachments": {},
   "cell_type": "markdown",
   "metadata": {},
   "source": [
    "### 실습 1-13\n",
    "#### +와 - 번갈아 출력하기 2"
   ]
  },
  {
   "cell_type": "code",
   "execution_count": 6,
   "metadata": {},
   "outputs": [
    {
     "name": "stdout",
     "output_type": "stream",
     "text": [
      "+와 -를 번갈아 출력합니다.\n",
      "+-+-+\n"
     ]
    }
   ],
   "source": [
    "print('+와 -를 번갈아 출력합니다.')\n",
    "n = int(input('몇 개를 출력할까요? : '))\n",
    "\n",
    "for _ in range(n//2): # for문에 _ 를 사용한 이유는 for문을 순환하면서 반환하는 값(인덱스)을 사용할 필요가 없기 때문\n",
    "    print('+-', end=\"\")\n",
    "\n",
    "if n % 2:\n",
    "    print('+', end=\"\")\n",
    "\n",
    "print()\n"
   ]
  },
  {
   "attachments": {},
   "cell_type": "markdown",
   "metadata": {},
   "source": [
    "***"
   ]
  },
  {
   "attachments": {},
   "cell_type": "markdown",
   "metadata": {},
   "source": [
    "### 반복 과정에서 조건 판단하기 3\n",
    "### 실습 1-14\n",
    "#### *를 n개 출력하되 w개마다 줄바꿈하기 1"
   ]
  },
  {
   "cell_type": "code",
   "execution_count": 8,
   "metadata": {},
   "outputs": [
    {
     "name": "stdout",
     "output_type": "stream",
     "text": [
      "*를 출력합니다.\n",
      "*****\n",
      "*****\n",
      "****\n"
     ]
    }
   ],
   "source": [
    "print('*를 출력합니다.')\n",
    "n = int(input(\"몇 개를 출력할까요? : \"))\n",
    "w = int(input(\"몇 개마다 줄바꿈할까요? : \"))\n",
    "\n",
    "for i in range(n):\n",
    "    print('*', end = \"\")\n",
    "    if i % w == w - 1:\n",
    "        print()\n",
    "if n % w:\n",
    "    print()"
   ]
  },
  {
   "attachments": {},
   "cell_type": "markdown",
   "metadata": {},
   "source": [
    "-> n번 반복, n번 판단 & 1번 판단"
   ]
  },
  {
   "attachments": {},
   "cell_type": "markdown",
   "metadata": {},
   "source": [
    "### 실습 1-15\n",
    "#### *를 n개 출력하되 w개마다 줄바꿈하기 2"
   ]
  },
  {
   "cell_type": "code",
   "execution_count": 9,
   "metadata": {},
   "outputs": [
    {
     "name": "stdout",
     "output_type": "stream",
     "text": [
      "*를 출력합니다.\n",
      "*****\n",
      "*****\n",
      "****\n"
     ]
    }
   ],
   "source": [
    "print('*를 출력합니다.')\n",
    "n = int(input(\"몇 개를 출력할까요? : \"))\n",
    "w = int(input(\"몇 개마다 줄바꿈할까요? : \"))\n",
    "\n",
    "for _ in range(n // w):\n",
    "    print('*'*w)\n",
    "\n",
    "rest = n % w\n",
    "\n",
    "if rest:\n",
    "    print('*' * rest)"
   ]
  },
  {
   "attachments": {},
   "cell_type": "markdown",
   "metadata": {},
   "source": [
    "-> n//w 번 반복\n",
    "\n",
    "1-14 보다 1-15가 효율"
   ]
  },
  {
   "attachments": {},
   "cell_type": "markdown",
   "metadata": {},
   "source": [
    "***"
   ]
  },
  {
   "attachments": {},
   "cell_type": "markdown",
   "metadata": {},
   "source": [
    "### 양수만 입력받기\n",
    "### 실습 1-16\n",
    "#### 1부터 n까지 정수의 합 구하기(n값은 양수만 입력받음)"
   ]
  },
  {
   "cell_type": "code",
   "execution_count": 15,
   "metadata": {},
   "outputs": [
    {
     "name": "stdout",
     "output_type": "stream",
     "text": [
      "1부터 n까지 정수의 합을 구합니다.\n",
      "15\n"
     ]
    }
   ],
   "source": [
    "print('1부터 n까지 정수의 합을 구합니다.')\n",
    "\n",
    "while True:\n",
    "    n = int(input('n값을 입력하세요. : '))\n",
    "    if n > 0:\n",
    "        break\n",
    "\n",
    "sum = 0\n",
    "\n",
    "for i in range(1,n+1):\n",
    "    sum += i\n",
    "\n",
    "print(sum)\n"
   ]
  },
  {
   "attachments": {},
   "cell_type": "markdown",
   "metadata": {},
   "source": [
    "***"
   ]
  },
  {
   "attachments": {},
   "cell_type": "markdown",
   "metadata": {},
   "source": [
    "### 직사각형 넓이로 변의 길이 구하기\n",
    "### 실습 1-17\n",
    "##### 가로, 세로 길이가 정수이고 넓이가 area인 직사각형에서 변의 길이 나열하기"
   ]
  },
  {
   "cell_type": "code",
   "execution_count": 22,
   "metadata": {},
   "outputs": [
    {
     "name": "stdout",
     "output_type": "stream",
     "text": [
      "1 X 32\n",
      "2 X 16\n",
      "4 X 8\n"
     ]
    }
   ],
   "source": [
    "area = int(input('직사각형의 넓이를 입력하세요. : '))\n",
    "\n",
    "for i in range(1, area + 1):\n",
    "    if i * i >area :\n",
    "        break \n",
    "    if area % i :\n",
    "        continue # continue 문은 area가 i로 나누어 떨어지지 않으면 for문\n",
    "    print(f\"{i} X {area // i}\")"
   ]
  },
  {
   "attachments": {},
   "cell_type": "markdown",
   "metadata": {},
   "source": [
    "***"
   ]
  },
  {
   "attachments": {},
   "cell_type": "markdown",
   "metadata": {},
   "source": [
    "### 실습 1-18\n",
    "##### 10~99 사이의 난수 n개 생성하기(13이 나오면 중단)"
   ]
  },
  {
   "cell_type": "code",
   "execution_count": 29,
   "metadata": {},
   "outputs": [
    {
     "name": "stdout",
     "output_type": "stream",
     "text": [
      "26 12 82 77 50 \n",
      "난수 생성을 종료합니다.\n"
     ]
    }
   ],
   "source": [
    "import random\n",
    "\n",
    "n = int(input('난수의 개수를 입력하세요. : '))\n",
    "\n",
    "for _ in range(n):\n",
    "    r = random.randint(10,99)\n",
    "    print(r, end=\" \")\n",
    "    if r == 13:\n",
    "        print(\"\\n프로그램을 중단합니다.\")\n",
    "        break\n",
    "else:\n",
    "    print(\"\\n난수 생성을 종료합니다.\")"
   ]
  },
  {
   "attachments": {},
   "cell_type": "markdown",
   "metadata": {},
   "source": [
    "***"
   ]
  },
  {
   "attachments": {},
   "cell_type": "markdown",
   "metadata": {},
   "source": [
    "### 반복문 건너뛰기와 여러 범위 스캔하기\n",
    "### 실습 1-19\n",
    "#### 1~12까지 8을 건너뛰고 출력하기1"
   ]
  },
  {
   "cell_type": "code",
   "execution_count": 30,
   "metadata": {},
   "outputs": [
    {
     "name": "stdout",
     "output_type": "stream",
     "text": [
      "1 2 3 4 5 6 7 9 10 11 12 \n"
     ]
    }
   ],
   "source": [
    "for i in range(1,13):\n",
    "    if i == 8:\n",
    "        continue\n",
    "    print(i, end=\" \")\n",
    "\n",
    "print()"
   ]
  },
  {
   "attachments": {},
   "cell_type": "markdown",
   "metadata": {},
   "source": [
    "=> 건너뛰어야 하는 값을 모르거나 건너뛰어야 하는 값이 변화한다면 매번 if, continue문을 사용해야함!!<br>\n",
    "  but, 8만 출력하지 않기위해 쓰기에는 비효율적"
   ]
  },
  {
   "attachments": {},
   "cell_type": "markdown",
   "metadata": {},
   "source": [
    "### 실습 1-20\n",
    "#### 1부터 12까지 8을 건너뛰고 출력하기 2"
   ]
  },
  {
   "cell_type": "code",
   "execution_count": 31,
   "metadata": {},
   "outputs": [
    {
     "name": "stdout",
     "output_type": "stream",
     "text": [
      "1 2 3 4 5 6 7 9 10 11 12 \n"
     ]
    }
   ],
   "source": [
    "for i in list(range(1,8)) + list(range(9,13)):\n",
    "    print(i, end=\" \")\n",
    "print()"
   ]
  },
  {
   "attachments": {},
   "cell_type": "markdown",
   "metadata": {},
   "source": [
    "=>단순히 리스트를 사용하여 8만 건너뜀<br>\n",
    " but, for문은 생성한 리스트의 원소를 하나씩 꺼내 반복하므로 반복을 위한 연산 비용은 여전히 발생"
   ]
  },
  {
   "attachments": {},
   "cell_type": "markdown",
   "metadata": {},
   "source": [
    "***"
   ]
  },
  {
   "attachments": {},
   "cell_type": "markdown",
   "metadata": {},
   "source": [
    "### 비교 연산자를 연속으로 사용하는 방법과 드모르간의 법칙\n",
    "### 실습 1C-3\n",
    "#### 2자리 양수(10~99) 입력받기"
   ]
  },
  {
   "cell_type": "code",
   "execution_count": 34,
   "metadata": {},
   "outputs": [
    {
     "name": "stdout",
     "output_type": "stream",
     "text": [
      "2자리 양수를 입력하세요.\n",
      "입력받은 양수는 55입니다.\n"
     ]
    }
   ],
   "source": [
    "print(\"2자리 양수를 입력하세요.\")\n",
    "\n",
    "while True:\n",
    "    no = int(input(\"값을 입력하세요. : \"))\n",
    "    if no >= 10 and no <= 99:  \n",
    "    # if 10 <= no <= 99: \n",
    "    # if not(no < 10 or no > 99):  --> 두개를 해도 같은 의미\n",
    "        break\n",
    "\n",
    "print(f\"입력받은 양수는 {no}입니다.\")"
   ]
  },
  {
   "attachments": {},
   "cell_type": "markdown",
   "metadata": {},
   "source": [
    "## 용어 정리\n",
    "#### 구조적 프로그램이란?\n",
    "입력과 출력으로 이루어진 구성요소를 계층으로 배치하여 프로그램을 구성하는 방법을 구조적 프로그래밍이라고 한다.<br>\n",
    "구조적 프로그래밍은 순차, 선택, 반복이라는 세 종류의 제어 흐름을 사용한다"
   ]
  },
  {
   "attachments": {},
   "cell_type": "markdown",
   "metadata": {},
   "source": [
    "***"
   ]
  },
  {
   "attachments": {},
   "cell_type": "markdown",
   "metadata": {},
   "source": [
    "## 다중 루프 알아보기\n",
    "\n",
    "### 실습 1-21\n",
    "#### 구구단 곱셈표"
   ]
  },
  {
   "cell_type": "code",
   "execution_count": 4,
   "metadata": {},
   "outputs": [
    {
     "name": "stdout",
     "output_type": "stream",
     "text": [
      "---------------------------\n",
      "  1  2  3  4  5  6  7  8  9\n",
      "  2  4  6  8 10 12 14 16 18\n",
      "  3  6  9 12 15 18 21 24 27\n",
      "  4  8 12 16 20 24 28 32 36\n",
      "  5 10 15 20 25 30 35 40 45\n",
      "  6 12 18 24 30 36 42 48 54\n",
      "  7 14 21 28 35 42 49 56 63\n",
      "  8 16 24 32 40 48 56 64 72\n",
      "  9 18 27 36 45 54 63 72 81\n",
      "---------------------------\n"
     ]
    }
   ],
   "source": [
    "print('-'*27)\n",
    "for i in range(1,10):\n",
    "    for j in range(1,10):\n",
    "        print(f'{i*j:3}',end=\"\") # :3 은 줄맞춤\n",
    "        \n",
    "        # print(f'{i*j}',end=\"\")\n",
    "    print()#행변경\n",
    "print('-'*27)"
   ]
  },
  {
   "attachments": {},
   "cell_type": "markdown",
   "metadata": {},
   "source": [
    "### 실습 1-22\n",
    "#### 직각 이등변 삼각형으로 출력\n",
    "#### 왼쪽 아래가 직각인 이등변삼격형으로 *출력하기"
   ]
  },
  {
   "cell_type": "code",
   "execution_count": 5,
   "metadata": {},
   "outputs": [
    {
     "name": "stdout",
     "output_type": "stream",
     "text": [
      "왼쪽 아래가 직각인 이등변 삼각형을 출력합니다.\n",
      "*\n",
      "**\n",
      "***\n",
      "****\n",
      "*****\n"
     ]
    }
   ],
   "source": [
    "print('왼쪽 아래가 직각인 이등변 삼각형을 출력합니다.')\n",
    "n = int(input(\"짧은 변의 길이를 입력하세요 : \"))\n",
    "\n",
    "for i in range(n):\n",
    "    for j in range(i+1):\n",
    "        print('*',end=\"\")\n",
    "    print()#행 변경"
   ]
  },
  {
   "attachments": {},
   "cell_type": "markdown",
   "metadata": {},
   "source": [
    "### 실습 1-23\n",
    "#### 오른쪽 아래가 지각ㄱ인 이등변삼각형으로 * 출력하기"
   ]
  },
  {
   "cell_type": "code",
   "execution_count": 7,
   "metadata": {},
   "outputs": [
    {
     "name": "stdout",
     "output_type": "stream",
     "text": [
      "왼쪽 아래가 직각인 이등변 삼각형을 출력합니다.\n",
      "    *\n",
      "   **\n",
      "  ***\n",
      " ****\n",
      "*****\n"
     ]
    }
   ],
   "source": [
    "print('왼쪽 아래가 직각인 이등변 삼각형을 출력합니다.')\n",
    "n = int(input(\"짧은 변의 길이를 입력하세요 : \"))\n",
    "\n",
    "for i in range(n):\n",
    "    for j in range(n-i-1):\n",
    "        print(' ',end=\"\")\n",
    "    for j in range(i+1):\n",
    "        print('*',end=\"\")\n",
    "    print()#행 변경"
   ]
  },
  {
   "attachments": {},
   "cell_type": "markdown",
   "metadata": {},
   "source": [
    "## 파이썬 변수 알아보기\n",
    "파이썬에서는 데이터,함수,클래스,모듈,패키지등 모두 객체(object)로 취급<br>\n",
    "객체는 자료형(data type)을 가지며 메모리(저장공간)를 차지<br>\n",
    "파이썬 변수는 값을 갖지 않는다는 특징<br>\n",
    "* 변수는 객체를 참조하는 객체에 연결된 이름에 불과함.\n",
    "* 모든 객체는 메모리를 차지하고, 자료형뿐만 아니라 식별 번호(identity)를 가짐"
   ]
  },
  {
   "attachments": {},
   "cell_type": "markdown",
   "metadata": {},
   "source": [
    "### 실습 1C-4\n",
    "함수 내부외부에서 정의한 변수와 객체의 식별번호를 출력하기"
   ]
  },
  {
   "cell_type": "code",
   "execution_count": 8,
   "metadata": {},
   "outputs": [
    {
     "name": "stdout",
     "output_type": "stream",
     "text": [
      "id(1) = 140719960810280\n",
      "id(n) = 140719960810280\n",
      "id(x) = 140719960810280\n"
     ]
    }
   ],
   "source": [
    "n=1#전역변수(함수 내부외부에서 사용)\n",
    "def put_id():\n",
    "    x=1 #지역변수(함수 내부에서 사용)\n",
    "    print(f'id(x) = {id(x)}')\n",
    "\n",
    "print(f'id(1) = {id(1)}')\n",
    "print(f'id(n) = {id(n)}')\n",
    "put_id()"
   ]
  },
  {
   "attachments": {},
   "cell_type": "markdown",
   "metadata": {},
   "source": [
    "### 실습 1C-5\n",
    "1부터 100까지 반복하여 출력하기"
   ]
  },
  {
   "cell_type": "code",
   "execution_count": 9,
   "metadata": {},
   "outputs": [
    {
     "name": "stdout",
     "output_type": "stream",
     "text": [
      "i =   1   id(i) = 140719960810280\n",
      "i =   2   id(i) = 140719960810312\n",
      "i =   3   id(i) = 140719960810344\n",
      "i =   4   id(i) = 140719960810376\n",
      "i =   5   id(i) = 140719960810408\n",
      "i =   6   id(i) = 140719960810440\n",
      "i =   7   id(i) = 140719960810472\n",
      "i =   8   id(i) = 140719960810504\n",
      "i =   9   id(i) = 140719960810536\n",
      "i =  10   id(i) = 140719960810568\n",
      "i =  11   id(i) = 140719960810600\n",
      "i =  12   id(i) = 140719960810632\n",
      "i =  13   id(i) = 140719960810664\n",
      "i =  14   id(i) = 140719960810696\n",
      "i =  15   id(i) = 140719960810728\n",
      "i =  16   id(i) = 140719960810760\n",
      "i =  17   id(i) = 140719960810792\n",
      "i =  18   id(i) = 140719960810824\n",
      "i =  19   id(i) = 140719960810856\n",
      "i =  20   id(i) = 140719960810888\n",
      "i =  21   id(i) = 140719960810920\n",
      "i =  22   id(i) = 140719960810952\n",
      "i =  23   id(i) = 140719960810984\n",
      "i =  24   id(i) = 140719960811016\n",
      "i =  25   id(i) = 140719960811048\n",
      "i =  26   id(i) = 140719960811080\n",
      "i =  27   id(i) = 140719960811112\n",
      "i =  28   id(i) = 140719960811144\n",
      "i =  29   id(i) = 140719960811176\n",
      "i =  30   id(i) = 140719960811208\n",
      "i =  31   id(i) = 140719960811240\n",
      "i =  32   id(i) = 140719960811272\n",
      "i =  33   id(i) = 140719960811304\n",
      "i =  34   id(i) = 140719960811336\n",
      "i =  35   id(i) = 140719960811368\n",
      "i =  36   id(i) = 140719960811400\n",
      "i =  37   id(i) = 140719960811432\n",
      "i =  38   id(i) = 140719960811464\n",
      "i =  39   id(i) = 140719960811496\n",
      "i =  40   id(i) = 140719960811528\n",
      "i =  41   id(i) = 140719960811560\n",
      "i =  42   id(i) = 140719960811592\n",
      "i =  43   id(i) = 140719960811624\n",
      "i =  44   id(i) = 140719960811656\n",
      "i =  45   id(i) = 140719960811688\n",
      "i =  46   id(i) = 140719960811720\n",
      "i =  47   id(i) = 140719960811752\n",
      "i =  48   id(i) = 140719960811784\n",
      "i =  49   id(i) = 140719960811816\n",
      "i =  50   id(i) = 140719960811848\n",
      "i =  51   id(i) = 140719960811880\n",
      "i =  52   id(i) = 140719960811912\n",
      "i =  53   id(i) = 140719960811944\n",
      "i =  54   id(i) = 140719960811976\n",
      "i =  55   id(i) = 140719960812008\n",
      "i =  56   id(i) = 140719960812040\n",
      "i =  57   id(i) = 140719960812072\n",
      "i =  58   id(i) = 140719960812104\n",
      "i =  59   id(i) = 140719960812136\n",
      "i =  60   id(i) = 140719960812168\n",
      "i =  61   id(i) = 140719960812200\n",
      "i =  62   id(i) = 140719960812232\n",
      "i =  63   id(i) = 140719960812264\n",
      "i =  64   id(i) = 140719960812296\n",
      "i =  65   id(i) = 140719960812328\n",
      "i =  66   id(i) = 140719960812360\n",
      "i =  67   id(i) = 140719960812392\n",
      "i =  68   id(i) = 140719960812424\n",
      "i =  69   id(i) = 140719960812456\n",
      "i =  70   id(i) = 140719960812488\n",
      "i =  71   id(i) = 140719960812520\n",
      "i =  72   id(i) = 140719960812552\n",
      "i =  73   id(i) = 140719960812584\n",
      "i =  74   id(i) = 140719960812616\n",
      "i =  75   id(i) = 140719960812648\n",
      "i =  76   id(i) = 140719960812680\n",
      "i =  77   id(i) = 140719960812712\n",
      "i =  78   id(i) = 140719960812744\n",
      "i =  79   id(i) = 140719960812776\n",
      "i =  80   id(i) = 140719960812808\n",
      "i =  81   id(i) = 140719960812840\n",
      "i =  82   id(i) = 140719960812872\n",
      "i =  83   id(i) = 140719960812904\n",
      "i =  84   id(i) = 140719960812936\n",
      "i =  85   id(i) = 140719960812968\n",
      "i =  86   id(i) = 140719960813000\n",
      "i =  87   id(i) = 140719960813032\n",
      "i =  88   id(i) = 140719960813064\n",
      "i =  89   id(i) = 140719960813096\n",
      "i =  90   id(i) = 140719960813128\n",
      "i =  91   id(i) = 140719960813160\n",
      "i =  92   id(i) = 140719960813192\n",
      "i =  93   id(i) = 140719960813224\n",
      "i =  94   id(i) = 140719960813256\n",
      "i =  95   id(i) = 140719960813288\n",
      "i =  96   id(i) = 140719960813320\n",
      "i =  97   id(i) = 140719960813352\n",
      "i =  98   id(i) = 140719960813384\n",
      "i =  99   id(i) = 140719960813416\n",
      "i = 100   id(i) = 140719960813448\n"
     ]
    }
   ],
   "source": [
    "for i in range(1,101):\n",
    "    print(f'i = {i:3}   id(i) = {id(i)}')"
   ]
  }
 ],
 "metadata": {
  "kernelspec": {
   "display_name": "Python 3",
   "language": "python",
   "name": "python3"
  },
  "language_info": {
   "codemirror_mode": {
    "name": "ipython",
    "version": 3
   },
   "file_extension": ".py",
   "mimetype": "text/x-python",
   "name": "python",
   "nbconvert_exporter": "python",
   "pygments_lexer": "ipython3",
   "version": "3.11.3"
  },
  "orig_nbformat": 4
 },
 "nbformat": 4,
 "nbformat_minor": 2
}
