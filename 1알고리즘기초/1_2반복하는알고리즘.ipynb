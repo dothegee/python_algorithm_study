{
 "cells": [
  {
   "attachments": {},
   "cell_type": "markdown",
   "metadata": {},
   "source": [
    "### 실습1-7\n",
    "#### 1부터 n까지 정수의 합 구하기1(while 문)"
   ]
  },
  {
   "cell_type": "code",
   "execution_count": 4,
   "metadata": {},
   "outputs": [
    {
     "name": "stdout",
     "output_type": "stream",
     "text": [
      "1부터 n까지 정수의 합\n",
      "5까지 정수 합은 15\n"
     ]
    }
   ],
   "source": [
    "print(\"1부터 n까지 정수의 합\")\n",
    "n = int(input(\"n의 값을 입력 : \"))\n",
    "\n",
    "sum = 0\n",
    "i = 1\n",
    "\n",
    "while i <= n: #i가 n 보다 작거나 같을 동안 반복\n",
    "    sum += i\n",
    "    i += 1\n",
    "\n",
    "print(f\"{n}까지 정수 합은 {sum}\")\n"
   ]
  },
  {
   "attachments": {},
   "cell_type": "markdown",
   "metadata": {},
   "source": [
    "### 실습1-8\n",
    "#### for 문"
   ]
  },
  {
   "cell_type": "code",
   "execution_count": 2,
   "metadata": {},
   "outputs": [
    {
     "name": "stdout",
     "output_type": "stream",
     "text": [
      "1부터 n까지 정수의 합\n",
      "5까지 정수 합은 15\n"
     ]
    }
   ],
   "source": [
    "print(\"1부터 n까지 정수의 합\")\n",
    "n = int(input(\"n의 값을 입력 : \"))\n",
    "\n",
    "sum = 0\n",
    "\n",
    "for i in range(1,n+1):\n",
    "    sum += i\n",
    "\n",
    "print(f\"{n}까지 정수 합은 {sum}\")"
   ]
  },
  {
   "attachments": {},
   "cell_type": "markdown",
   "metadata": {},
   "source": [
    "***"
   ]
  },
  {
   "attachments": {},
   "cell_type": "markdown",
   "metadata": {},
   "source": [
    "### 실습 1-10\n",
    "#### a부터 b까지 정수의 합 구하기 1"
   ]
  },
  {
   "cell_type": "code",
   "execution_count": 3,
   "metadata": {},
   "outputs": [
    {
     "name": "stdout",
     "output_type": "stream",
     "text": [
      "a부터 b까지 정수의 합을 구합니다.\n",
      "5 + 6 + 7 + 8 + 9 + 10 = 10\n"
     ]
    }
   ],
   "source": [
    "print('a부터 b까지 정수의 합을 구합니다.')\n",
    "a = int(input('정수 a를 입력하세요.: '))\n",
    "b = int(input(\"정수 b를 입력하세요.: \"))\n",
    "\n",
    "if a>b:\n",
    "    a,b=b,a\n",
    "\n",
    "sum=0\n",
    "for i in range(a,b+1):\n",
    "    if i<b:\n",
    "        print(f\"{i} + \", end=\"\")\n",
    "    else:\n",
    "        print(f\"{i} = \", end=\"\")\n",
    "sum += i\n",
    "\n",
    "print(sum)"
   ]
  },
  {
   "attachments": {},
   "cell_type": "markdown",
   "metadata": {},
   "source": [
    "### 실습 1-11\n",
    "#### a부터 b까지 정수의 합 구하기 2"
   ]
  },
  {
   "cell_type": "code",
   "execution_count": 4,
   "metadata": {},
   "outputs": [
    {
     "name": "stdout",
     "output_type": "stream",
     "text": [
      "a부터 b까지 정수의 합을 구합니다. \n",
      "5 + 6 + 7 + 8 + 9 + 10 = 45\n"
     ]
    }
   ],
   "source": [
    "\n",
    "print('a부터 b까지 정수의 합을 구합니다. ')\n",
    "a = int(input('정수 a를 입력하세요.: '))\n",
    "b = int(input(\"정수 b를 입력하세요.: \"))\n",
    "\n",
    "if a > b:\n",
    "    a, b = b, a\n",
    "\n",
    "sum = 0\n",
    "for i in range(a, b):\n",
    "    print(f\"{i} + \", end=\"\")\n",
    "    sum+=i\n",
    "\n",
    "print(f\"{b} = \", end = \"\")\n",
    "\n",
    "sum+=b\n",
    "print(sum)"
   ]
  },
  {
   "attachments": {},
   "cell_type": "markdown",
   "metadata": {},
   "source": [
    "1-10에서 1-11로 바꾸는 과정에서 조건식 판단횟수가 n번에서 0번으로 바뀌었고,<br>\n",
    "심지어 반복횟수도 1번 감소!!!!!!!!!!!!"
   ]
  },
  {
   "attachments": {},
   "cell_type": "markdown",
   "metadata": {},
   "source": [
    "***"
   ]
  },
  {
   "attachments": {},
   "cell_type": "markdown",
   "metadata": {},
   "source": [
    "### 반복과정에서 조건 판단하기 2\n",
    "### 실습 1-12\n",
    "#### +와 - 번갈아 출력하기 1"
   ]
  },
  {
   "cell_type": "code",
   "execution_count": 5,
   "metadata": {},
   "outputs": [
    {
     "name": "stdout",
     "output_type": "stream",
     "text": [
      "+와 -를 번갈아 출력합니다.\n",
      "+-+-+\n"
     ]
    }
   ],
   "source": [
    "print('+와 -를 번갈아 출력합니다.')\n",
    "n = int(input('몇 개를 출력할까요? : '))\n",
    "\n",
    "for i in range(n):\n",
    "    if i % 2:\n",
    "        print('-', end = \"\")\n",
    "    else:\n",
    "        print('+', end = \"\")\n",
    "\n",
    "print()"
   ]
  },
  {
   "attachments": {},
   "cell_type": "markdown",
   "metadata": {},
   "source": [
    "실습1-12 --> for 문 반복을 n번, 나눗셈은 n번, if 문 판단은 n번 함."
   ]
  },
  {
   "attachments": {},
   "cell_type": "markdown",
   "metadata": {},
   "source": [
    "### 실습 1-13\n",
    "#### +와 - 번갈아 출력하기 2"
   ]
  },
  {
   "cell_type": "code",
   "execution_count": 6,
   "metadata": {},
   "outputs": [
    {
     "name": "stdout",
     "output_type": "stream",
     "text": [
      "+와 -를 번갈아 출력합니다.\n",
      "+-+-+\n"
     ]
    }
   ],
   "source": [
    "print('+와 -를 번갈아 출력합니다.')\n",
    "n = int(input('몇 개를 출력할까요? : '))\n",
    "\n",
    "for _ in range(n//2): # for문에 _ 를 사용한 이유는 for문을 순환하면서 반환하는 값(인덱스)을 사용할 필요가 없기 때문\n",
    "    print('+-', end=\"\")\n",
    "\n",
    "if n % 2:\n",
    "    print('+', end=\"\")\n",
    "\n",
    "print()\n"
   ]
  },
  {
   "attachments": {},
   "cell_type": "markdown",
   "metadata": {},
   "source": [
    "***"
   ]
  },
  {
   "attachments": {},
   "cell_type": "markdown",
   "metadata": {},
   "source": [
    "### 반복 과정에서 조건 판단하기 3\n",
    "### 실습 1-14\n",
    "#### *를 n개 출력하되 w개마다 줄바꿈하기 1"
   ]
  },
  {
   "cell_type": "code",
   "execution_count": 8,
   "metadata": {},
   "outputs": [
    {
     "name": "stdout",
     "output_type": "stream",
     "text": [
      "*를 출력합니다.\n",
      "*****\n",
      "*****\n",
      "****\n"
     ]
    }
   ],
   "source": [
    "print('*를 출력합니다.')\n",
    "n = int(input(\"몇 개를 출력할까요? : \"))\n",
    "w = int(input(\"몇 개마다 줄바꿈할까요? : \"))\n",
    "\n",
    "for i in range(n):\n",
    "    print('*', end = \"\")\n",
    "    if i % w == w - 1:\n",
    "        print()\n",
    "if n % w:\n",
    "    print()"
   ]
  },
  {
   "attachments": {},
   "cell_type": "markdown",
   "metadata": {},
   "source": [
    "-> n번 반복, n번 판단 & 1번 판단"
   ]
  },
  {
   "attachments": {},
   "cell_type": "markdown",
   "metadata": {},
   "source": [
    "### 실습 1-15\n",
    "#### *를 n개 출력하되 w개마다 줄바꿈하기 2"
   ]
  },
  {
   "cell_type": "code",
   "execution_count": 9,
   "metadata": {},
   "outputs": [
    {
     "name": "stdout",
     "output_type": "stream",
     "text": [
      "*를 출력합니다.\n",
      "*****\n",
      "*****\n",
      "****\n"
     ]
    }
   ],
   "source": [
    "print('*를 출력합니다.')\n",
    "n = int(input(\"몇 개를 출력할까요? : \"))\n",
    "w = int(input(\"몇 개마다 줄바꿈할까요? : \"))\n",
    "\n",
    "for _ in range(n // w):\n",
    "    print('*'*w)\n",
    "\n",
    "rest = n % w\n",
    "\n",
    "if rest:\n",
    "    print('*' * rest)"
   ]
  },
  {
   "attachments": {},
   "cell_type": "markdown",
   "metadata": {},
   "source": [
    "-> n//w 번 반복\n",
    "\n",
    "1-14 보다 1-15가 효율"
   ]
  },
  {
   "attachments": {},
   "cell_type": "markdown",
   "metadata": {},
   "source": [
    "***"
   ]
  },
  {
   "attachments": {},
   "cell_type": "markdown",
   "metadata": {},
   "source": [
    "### 양수만 입력받기\n",
    "### 실습 1-16\n",
    "#### 1부터 n까지 정수의 합 구하기(n값은 양수만 입력받음)"
   ]
  },
  {
   "cell_type": "code",
   "execution_count": 15,
   "metadata": {},
   "outputs": [
    {
     "name": "stdout",
     "output_type": "stream",
     "text": [
      "1부터 n까지 정수의 합을 구합니다.\n",
      "15\n"
     ]
    }
   ],
   "source": [
    "print('1부터 n까지 정수의 합을 구합니다.')\n",
    "\n",
    "while True:\n",
    "    n = int(input('n값을 입력하세요. : '))\n",
    "    if n > 0:\n",
    "        break\n",
    "\n",
    "sum = 0\n",
    "\n",
    "for i in range(1,n+1):\n",
    "    sum += i\n",
    "\n",
    "print(sum)\n"
   ]
  },
  {
   "attachments": {},
   "cell_type": "markdown",
   "metadata": {},
   "source": [
    "***"
   ]
  },
  {
   "attachments": {},
   "cell_type": "markdown",
   "metadata": {},
   "source": [
    "### 직사각형 넓이로 변의 길이 구하기\n",
    "### 실습 1-17\n",
    "##### 가로, 세로 길이가 정수이고 넓이가 area인 직사각형에서 변의 길이 나열하기"
   ]
  },
  {
   "cell_type": "code",
   "execution_count": 22,
   "metadata": {},
   "outputs": [
    {
     "name": "stdout",
     "output_type": "stream",
     "text": [
      "1 X 32\n",
      "2 X 16\n",
      "4 X 8\n"
     ]
    }
   ],
   "source": [
    "area = int(input('직사각형의 넓이를 입력하세요. : '))\n",
    "\n",
    "for i in range(1, area + 1):\n",
    "    if i * i >area :\n",
    "        break \n",
    "    if area % i :\n",
    "        continue # continue 문은 area가 i로 나누어 떨어지지 않으면 for문\n",
    "    print(f\"{i} X {area // i}\")"
   ]
  },
  {
   "attachments": {},
   "cell_type": "markdown",
   "metadata": {},
   "source": [
    "***"
   ]
  },
  {
   "attachments": {},
   "cell_type": "markdown",
   "metadata": {},
   "source": [
    "### 실습 1-18\n",
    "##### 10~99 사이의 난수 n개 생성하기(13이 나오면 중단)"
   ]
  },
  {
   "cell_type": "code",
   "execution_count": 29,
   "metadata": {},
   "outputs": [
    {
     "name": "stdout",
     "output_type": "stream",
     "text": [
      "26 12 82 77 50 \n",
      "난수 생성을 종료합니다.\n"
     ]
    }
   ],
   "source": [
    "import random\n",
    "\n",
    "n = int(input('난수의 개수를 입력하세요. : '))\n",
    "\n",
    "for _ in range(n):\n",
    "    r = random.randint(10,99)\n",
    "    print(r, end=\" \")\n",
    "    if r == 13:\n",
    "        print(\"\\n프로그램을 중단합니다.\")\n",
    "        break\n",
    "else:\n",
    "    print(\"\\n난수 생성을 종료합니다.\")"
   ]
  },
  {
   "attachments": {},
   "cell_type": "markdown",
   "metadata": {},
   "source": [
    "***"
   ]
  },
  {
   "attachments": {},
   "cell_type": "markdown",
   "metadata": {},
   "source": [
    "### 반복문 건너뛰기와 여러 범위 스캔하기\n",
    "### 실습 1-19\n",
    "#### 1~12까지 8을 건너뛰고 출력하기1"
   ]
  },
  {
   "cell_type": "code",
   "execution_count": 30,
   "metadata": {},
   "outputs": [
    {
     "name": "stdout",
     "output_type": "stream",
     "text": [
      "1 2 3 4 5 6 7 9 10 11 12 \n"
     ]
    }
   ],
   "source": [
    "for i in range(1,13):\n",
    "    if i == 8:\n",
    "        continue\n",
    "    print(i, end=\" \")\n",
    "\n",
    "print()"
   ]
  },
  {
   "attachments": {},
   "cell_type": "markdown",
   "metadata": {},
   "source": [
    "=> 건너뛰어야 하는 값을 모르거나 건너뛰어야 하는 값이 변화한다면 매번 if, continue문을 사용해야함!!<br>\n",
    "  but, 8만 출력하지 않기위해 쓰기에는 비효율적"
   ]
  },
  {
   "attachments": {},
   "cell_type": "markdown",
   "metadata": {},
   "source": [
    "### 실습 1-20\n",
    "#### 1부터 12까지 8을 건너뛰고 출력하기 2"
   ]
  },
  {
   "cell_type": "code",
   "execution_count": 31,
   "metadata": {},
   "outputs": [
    {
     "name": "stdout",
     "output_type": "stream",
     "text": [
      "1 2 3 4 5 6 7 9 10 11 12 \n"
     ]
    }
   ],
   "source": [
    "for i in list(range(1,8)) + list(range(9,13)):\n",
    "    print(i, end=\" \")\n",
    "print()"
   ]
  },
  {
   "attachments": {},
   "cell_type": "markdown",
   "metadata": {},
   "source": [
    "=>단순히 리스트를 사용하여 8만 건너뜀<br>\n",
    " but, for문은 생성한 리스트의 원소를 하나씩 꺼내 반복하므로 반복을 위한 연산 비용은 여전히 발생"
   ]
  },
  {
   "attachments": {},
   "cell_type": "markdown",
   "metadata": {},
   "source": [
    "***"
   ]
  }
 ],
 "metadata": {
  "kernelspec": {
   "display_name": "Python 3",
   "language": "python",
   "name": "python3"
  },
  "language_info": {
   "codemirror_mode": {
    "name": "ipython",
    "version": 3
   },
   "file_extension": ".py",
   "mimetype": "text/x-python",
   "name": "python",
   "nbconvert_exporter": "python",
   "pygments_lexer": "ipython3",
   "version": "3.11.3"
  },
  "orig_nbformat": 4
 },
 "nbformat": 4,
 "nbformat_minor": 2
}
